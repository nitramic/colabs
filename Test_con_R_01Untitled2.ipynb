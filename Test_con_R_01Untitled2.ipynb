{
  "nbformat": 4,
  "nbformat_minor": 0,
  "metadata": {
    "colab": {
      "provenance": []
    },
    "kernelspec": {
      "name": "ir",
      "display_name": "R"
    },
    "language_info": {
      "name": "R"
    }
  },
  "cells": [
    {
      "cell_type": "markdown",
      "source": [
        "Basado en la version 00, esta session debe correr con R de forma nativa.\n",
        "Para hacer esto desde la parte de Connect debo seleccionar el runtime de R y con eso ya estariamos.\n",
        "\n",
        "Ahora basado en\n",
        "https://saturncloud.io/blog/how-to-use-r-with-google-colaboratory/\n",
        "vamos a probar que sucede\n",
        "\n",
        "Luego siguen algoritmos de tradding con R.\n",
        "\n",
        "Una vez que se inicio el file de R podemos realizar la instalacion de los paquetes de R como cualquier entorno de R\n",
        "install.packages()\n",
        "EJ.:\n",
        "install.packages(\"tidyverse\")\n",
        "\n"
      ],
      "metadata": {
        "id": "o8aTcFFDuATz"
      }
    },
    {
      "cell_type": "code",
      "execution_count": null,
      "metadata": {
        "colab": {
          "base_uri": "https://localhost:8080/"
        },
        "id": "rmiCwohht4bq",
        "outputId": "cc5ea8d1-0759-48a8-9bae-6c2e7b2cc1db"
      },
      "outputs": [
        {
          "output_type": "stream",
          "name": "stderr",
          "text": [
            "Installing package into ‘/usr/local/lib/R/site-library’\n",
            "(as ‘lib’ is unspecified)\n",
            "\n"
          ]
        }
      ],
      "source": [
        "install.packages(\"tidyverse\")"
      ]
    }
  ]
}